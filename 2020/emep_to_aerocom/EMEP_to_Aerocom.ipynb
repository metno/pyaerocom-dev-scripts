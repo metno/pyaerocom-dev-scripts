{
 "cells": [
  {
   "cell_type": "code",
   "execution_count": null,
   "metadata": {},
   "outputs": [],
   "source": [
    "import os\n",
    "from EMEP_to_Aerocom import *"
   ]
  },
  {
   "cell_type": "markdown",
   "metadata": {},
   "source": [
    "## Conversion settings"
   ]
  },
  {
   "cell_type": "code",
   "execution_count": null,
   "metadata": {},
   "outputs": [],
   "source": [
    "basepath = '/home/eirikg/Desktop/pyaerocom/data/2020_AerocomHIST/'\n",
    "store = '/home/eirikg/Desktop/pyaerocom/data/2020_AerocomHIST/processed'\n",
    "data_id = 'EMEP-met2010'\n",
    "\n",
    "years = [2000]\n",
    "ts_types = ['monthly']\n",
    "paths = [os.path.join(basepath, '{}_GLOB1_2010met'.format(year)) for year in years]"
   ]
  },
  {
   "cell_type": "markdown",
   "metadata": {},
   "source": [
    "## Convert files"
   ]
  },
  {
   "cell_type": "code",
   "execution_count": null,
   "metadata": {
    "scrolled": true
   },
   "outputs": [],
   "source": [
    "for ts_type in ts_types:\n",
    "    for (path, year) in  zip(paths, years):\n",
    "        EMEP_to_aerocom(path, store, ts_type, year, data_id)"
   ]
  },
  {
   "cell_type": "markdown",
   "metadata": {},
   "source": [
    "## Check converted files"
   ]
  },
  {
   "cell_type": "code",
   "execution_count": null,
   "metadata": {},
   "outputs": [],
   "source": [
    "# Setup directories and readers\n",
    "# Control: files converted with EMEP bash script\n",
    "# Convert: files converted with ReadEMEP\n",
    "\n",
    "## Lustre\n",
    "# control_dir = '/lustre/storeA/project/aerocom/aerocom-users-database/AEROCOM-PHASE-III-2019/EMEPrv4.33-met2010_HIST/renamed'\n",
    "# convert_dir = store\n",
    "\n",
    "## Locally\n",
    "control_dir = '/home/eirikg/Desktop/pyaerocom/data/2020_AerocomHIST/control'\n",
    "convert_dir = store\n",
    "data_id = \"EMEPrv4.33-met2010\"\n",
    "control_reader = ReadGridded(data_dir=control_dir, data_id=data_id+'-control')\n",
    "convert_reader = ReadGridded(data_dir=convert_dir, data_id=data_id+'-converted')"
   ]
  },
  {
   "cell_type": "code",
   "execution_count": null,
   "metadata": {},
   "outputs": [],
   "source": [
    "# Try reading the converted files\n",
    "for variable in convert_reader.vars_provided:\n",
    "    convert_reader.read_var(variable)"
   ]
  },
  {
   "cell_type": "code",
   "execution_count": null,
   "metadata": {},
   "outputs": [],
   "source": [
    "# Check which variables are available, print every variable missing from converted files\n",
    "var_in_both = []\n",
    "\n",
    "for variable in control_reader.vars_provided:\n",
    "    if variable not in convert_reader.vars_provided:\n",
    "        print('Variable: {} missing from converted files.'.format(variable))\n",
    "    else:\n",
    "        var_in_both.append(variable)"
   ]
  },
  {
   "cell_type": "code",
   "execution_count": null,
   "metadata": {},
   "outputs": [],
   "source": [
    "results = run_compare('monthly', 1950, alltimes=True)"
   ]
  },
  {
   "cell_type": "code",
   "execution_count": null,
   "metadata": {},
   "outputs": [],
   "source": [
    "results"
   ]
  }
 ],
 "metadata": {
  "jupytext": {
   "formats": "ipynb,md"
  },
  "kernelspec": {
   "display_name": "Python 3",
   "language": "python",
   "name": "python3"
  },
  "language_info": {
   "codemirror_mode": {
    "name": "ipython",
    "version": 3
   },
   "file_extension": ".py",
   "mimetype": "text/x-python",
   "name": "python",
   "nbconvert_exporter": "python",
   "pygments_lexer": "ipython3",
   "version": "3.7.6"
  }
 },
 "nbformat": 4,
 "nbformat_minor": 4
}
