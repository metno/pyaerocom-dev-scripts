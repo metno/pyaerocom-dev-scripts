{
 "cells": [
  {
   "cell_type": "code",
   "execution_count": null,
   "metadata": {
    "ExecuteTime": {
     "end_time": "2020-03-23T12:48:16.973178Z",
     "start_time": "2020-03-23T12:48:14.926366Z"
    }
   },
   "outputs": [],
   "source": [
    "import pyaerocom as pya\n",
    "import pyaerocom.io.read_emep\n",
    "pya.__version__"
   ]
  },
  {
   "cell_type": "markdown",
   "metadata": {},
   "source": [
    "## EMEP Aas"
   ]
  },
  {
   "cell_type": "code",
   "execution_count": null,
   "metadata": {
    "ExecuteTime": {
     "end_time": "2020-03-23T12:48:17.772232Z",
     "start_time": "2020-03-23T12:48:17.764891Z"
    }
   },
   "outputs": [],
   "source": [
    "# Setup EMEP reader\n",
    "pya.const.add_data_search_dir('/home/eirikg/Desktop/pyaerocom/data/2020_AerocomHIST/')\n",
    "# pya.browse_database('processed')\n",
    "reader_emep = pya.io.ReadGridded('processed')\n",
    "\n",
    "# Setup Aas reader\n",
    "aaspath = '/home/eirikg/Desktop/pyaerocom/data/aas'\n",
    "pya.const.add_ungridded_obs('aasetal', aaspath, reader=pya.io.ReadAasEtal)\n",
    "pya.browse_database('Aas*')\n",
    "reader_aas = pya.io.ReadUngridded('aasetal')"
   ]
  },
  {
   "cell_type": "code",
   "execution_count": null,
   "metadata": {
    "ExecuteTime": {
     "end_time": "2020-03-23T12:49:00.138556Z",
     "start_time": "2020-03-23T12:48:49.412225Z"
    },
    "code_folding": []
   },
   "outputs": [],
   "source": [
    "# Loop through and read variables, colocate and plot\n",
    "variables = ['wetso4', 'concso2', 'concso4']\n",
    "variables = ['wetso4']\n",
    "for var in ['wetso4']:\n",
    "    emep = reader_emep.read_var(var, ts_type='monthly')\n",
    "    aas = reader_aas.read(vars_to_retrieve=var)\n",
    "    coloc = pya.colocation.colocate_gridded_ungridded(emep, aas, filter_name=\"WORLD-wMOUNTAINS\")\n",
    "    coloc.plot_scatter()\n",
    "#     coloc.apply_latlon_filter(region_id='ASIA').plot_scatter()\n",
    "#     coloc.apply_latlon_filter(region_id='EUROPE').plot_scatter()"
   ]
  },
  {
   "cell_type": "markdown",
   "metadata": {},
   "source": [
    "## emep aeronet"
   ]
  },
  {
   "cell_type": "code",
   "execution_count": null,
   "metadata": {
    "ExecuteTime": {
     "end_time": "2020-03-23T10:15:01.973642Z",
     "start_time": "2020-03-23T10:15:01.971077Z"
    }
   },
   "outputs": [],
   "source": [
    "# reader = pya.io.read_emep.ReadEMEP(filepath)\n",
    "# od550aer = reader.read_var(var_name='od550aer', ts_type='monthly')\n",
    "# od550aer.var_name = 'od550aer'\n",
    "# od550aer.units = '1'"
   ]
  },
  {
   "cell_type": "code",
   "execution_count": null,
   "metadata": {
    "ExecuteTime": {
     "end_time": "2020-03-23T10:15:01.982662Z",
     "start_time": "2020-03-23T10:15:01.976424Z"
    }
   },
   "outputs": [],
   "source": [
    "# reader = pya.io.ReadUngridded('AeronetSunV3Lev2.daily')\n",
    "# aero = reader.read(vars_to_retrieve='od550aer')"
   ]
  },
  {
   "cell_type": "code",
   "execution_count": null,
   "metadata": {
    "ExecuteTime": {
     "end_time": "2020-03-23T10:15:01.989521Z",
     "start_time": "2020-03-23T10:15:01.984825Z"
    }
   },
   "outputs": [],
   "source": [
    "# coloc = pya.colocation.colocate_gridded_ungridded(od550aer, aero, ts_type='monthly', start=2010)"
   ]
  },
  {
   "cell_type": "code",
   "execution_count": null,
   "metadata": {
    "ExecuteTime": {
     "end_time": "2020-03-23T10:30:57.912612Z",
     "start_time": "2020-03-23T10:30:57.909849Z"
    }
   },
   "outputs": [],
   "source": [
    "# coloc.apply_latlon_filter(region_id='EUROPE').plot_scatter()"
   ]
  },
  {
   "cell_type": "code",
   "execution_count": null,
   "metadata": {
    "ExecuteTime": {
     "end_time": "2020-03-23T10:31:02.078748Z",
     "start_time": "2020-03-23T10:31:02.076269Z"
    }
   },
   "outputs": [],
   "source": [
    "# coloc.apply_latlon_filter(region_id='ASIA').plot_scatter()"
   ]
  }
 ],
 "metadata": {
  "kernelspec": {
   "display_name": "Python 3",
   "language": "python",
   "name": "python3"
  },
  "language_info": {
   "codemirror_mode": {
    "name": "ipython",
    "version": 3
   },
   "file_extension": ".py",
   "mimetype": "text/x-python",
   "name": "python",
   "nbconvert_exporter": "python",
   "pygments_lexer": "ipython3",
   "version": "3.7.6"
  },
  "toc": {
   "base_numbering": 1,
   "nav_menu": {},
   "number_sections": true,
   "sideBar": true,
   "skip_h1_title": false,
   "title_cell": "Table of Contents",
   "title_sidebar": "Contents",
   "toc_cell": false,
   "toc_position": {},
   "toc_section_display": true,
   "toc_window_display": false
  }
 },
 "nbformat": 4,
 "nbformat_minor": 4
}
