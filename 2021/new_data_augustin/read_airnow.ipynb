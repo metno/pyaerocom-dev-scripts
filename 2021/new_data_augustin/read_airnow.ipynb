{
 "cells": [
  {
   "cell_type": "code",
   "execution_count": 1,
   "metadata": {},
   "outputs": [],
   "source": [
    "import pyaerocom as pya\n",
    "import os\n",
    "import csv\n",
    "from glob import glob\n",
    "import pandas as pd\n",
    "from tqdm import tqdm\n",
    "from datetime import datetime\n",
    "import numpy as np\n",
    "\n",
    "# variables conversion and units dictionnary\n",
    "pyvars = {\n",
    "    'concbc': {\n",
    "        'var': 'BC',\n",
    "        'unit': 'ppb'\n",
    "    },\n",
    "    'concco': {\n",
    "        'var': 'CO',\n",
    "        'unit': 'ppb'\n",
    "    },\n",
    "    'concnh3': {\n",
    "        'var': 'NH3',\n",
    "        'unit': 'ppb'\n",
    "    },\n",
    "    'concno': {\n",
    "        'var': 'NO',\n",
    "        'unit': 'ppb'\n",
    "    },\n",
    "    'concno2': {\n",
    "        'var': 'NO2',\n",
    "        'unit': 'ppb'\n",
    "    },\n",
    "    'concnox': {\n",
    "        'var': 'NOX',\n",
    "        'unit': 'ppb'\n",
    "    },\n",
    "    'concnoy': {\n",
    "        'var': 'NOY',\n",
    "        'unit': 'ppb'\n",
    "    },\n",
    "    'conco3': {\n",
    "        'var': 'OZONE',\n",
    "        'unit': 'ppb'\n",
    "    },\n",
    "    'concpm10': {\n",
    "        'var': 'PM10',\n",
    "        'unit': 'ug m-3'\n",
    "    },\n",
    "    'concpm25': {\n",
    "        'var': 'PM2.5',\n",
    "        'unit': 'ug m-3'\n",
    "    },\n",
    "    'concso2': {\n",
    "        'var': 'SO2',\n",
    "        'unit': 'ppb'\n",
    "    }\n",
    "}\n",
    "\n",
    "def read_airnow(files, vars_to_retrieve=None):\n",
    "    \n",
    "    # first, read configuration file\n",
    "    print('read configuration file')\n",
    "    path_cfg = '/lustre/storeA/project/aerocom/aerocom1/AEROCOM_OBSDATA/MACC_INSITU_AirNow'\n",
    "    fn = os.path.join(path_cfg,'allStations_20191224.csv')\n",
    "    cfg = pd.read_csv(fn,sep=',', converters={'aqsid': lambda x: str(x)})\n",
    "    \n",
    "    \n",
    "    # read data using pandas\n",
    "    print('read data file(s)')\n",
    "    # initialize empty dataframe\n",
    "    data = pd.DataFrame()\n",
    "    for i in tqdm(range(len(files))):\n",
    "        data = data.append(pd.read_csv(files[i],sep='|',names=['mm/dd/yy','hh:mm','station_id','station_name','time_zone','variable','unit','value','Institute']))\n",
    "        \n",
    "    #create datetimeindex\n",
    "    data['datetime'] = pd.to_datetime(data.apply(lambda row: datetime(year=2000+int(row['mm/dd/yy'].split('/')[2]),month=int(row['mm/dd/yy'].split('/')[0]),day=int(row['mm/dd/yy'].split('/')[1]),hour=int(row['hh:mm'].split(':')[0]),minute=int(row['hh:mm'].split(':')[1])), axis=1))\n",
    "    data.set_index('datetime', inplace=True)\n",
    "    #drop yy/mm/dd and hh:mm columns\n",
    "    data.drop(columns=['mm/dd/yy','hh:mm'], inplace=True)\n",
    "    \n",
    "    \n",
    "    \n",
    "    #list of available variables\n",
    "    av_data = ['concbc', 'concco', 'concnh3', 'concno', 'concno2', 'concnox', 'concnoy', 'conco3', 'concpm10', 'concpm25', 'concso2']\n",
    "    if vars_to_retrieve == None:\n",
    "        vars_to_retrieve = av_data\n",
    "    \n",
    "    \n",
    "    #convert dataframes to dictionnaries\n",
    "    dic_cfg = dict()\n",
    "    for column in cfg.columns:\n",
    "        dic_cfg[column] = cfg[column].values\n",
    "    dic_data = dict()\n",
    "    for column in data.columns:\n",
    "        dic_data[column] = data[column].values    \n",
    "\n",
    "    \n",
    "    # list of stationData objects\n",
    "    print('create stationData objects')\n",
    "    stationsData = []\n",
    "    for i in tqdm(range(len(cfg['aqsid']))):\n",
    "        for var in vars_to_retrieve:\n",
    "            try:\n",
    "                #initialize stationData object\n",
    "                stationData = pya.StationData()\n",
    "\n",
    "                # fill stationData with cfg\n",
    "                stationData['data_id'] = 'CAMS84_AIRNOW'\n",
    "                stationData['station_name'] = cfg['name'][i]\n",
    "                stationData['station_id'] = cfg['aqsid'][i]\n",
    "                stationData['latitude'] = cfg['lat'][i]\n",
    "                stationData['longitude'] = cfg['lon'][i]\n",
    "                stationData['altitude'] = cfg['elevation'][i]\n",
    "                stationData['ts_type'] = 'hourly'\n",
    "\n",
    "                # fill stationData with data\n",
    "                mask = (data['variable'] == pyvars[var]['var']) & (data['station_id'] == stationData['station_id'])\n",
    "                stationData[var] = data[mask]['value'].astype('datetime64[s]')\n",
    "\n",
    "                # for each variable, there needs to be an entry in the var_info dict\n",
    "                stationData['var_info'][var] = dict()\n",
    "                stationData['var_info'][var]['units'] = pyvars[var]['unit']\n",
    "\n",
    "                stationsData.append(stationData)\n",
    "            except KeyError:\n",
    "                print(\"Available variables: \",av_data)\n",
    "                raise\n",
    "    return stationsData"
   ]
  },
  {
   "cell_type": "code",
   "execution_count": 53,
   "metadata": {},
   "outputs": [
    {
     "name": "stdout",
     "output_type": "stream",
     "text": [
      "read configuration file\n"
     ]
    },
    {
     "name": "stderr",
     "output_type": "stream",
     "text": [
      "  0%|          | 0/2 [00:00<?, ?it/s]"
     ]
    },
    {
     "name": "stdout",
     "output_type": "stream",
     "text": [
      "read data file(s)\n"
     ]
    },
    {
     "name": "stderr",
     "output_type": "stream",
     "text": [
      "100%|██████████| 2/2 [00:01<00:00,  1.13it/s]\n",
      "  1%|          | 20/2588 [00:00<00:13, 192.51it/s]"
     ]
    },
    {
     "name": "stdout",
     "output_type": "stream",
     "text": [
      "create stationData objects\n"
     ]
    },
    {
     "name": "stderr",
     "output_type": "stream",
     "text": [
      "100%|██████████| 2588/2588 [00:14<00:00, 177.77it/s]"
     ]
    },
    {
     "name": "stdout",
     "output_type": "stream",
     "text": [
      "CPU times: user 16 s, sys: 87.5 ms, total: 16.1 s\n",
      "Wall time: 17.8 s\n"
     ]
    },
    {
     "name": "stderr",
     "output_type": "stream",
     "text": [
      "\n"
     ]
    }
   ],
   "source": [
    "path_data = '/lustre/storeA/project/aerocom/aerocom1/AEROCOM_OBSDATA/MACC_INSITU_AirNow'\n",
    "dirs = [os.path.join(path_data, o) for o in os.listdir(path_data) if os.path.isdir(os.path.join(path_data,o))]\n",
    "files = [glob(os.path.join(path_data, d, '*.dat')) for d in dirs][0]\n",
    "    \n",
    "%time data = read_airnow(files, ['concpm10'])"
   ]
  },
  {
   "cell_type": "code",
   "execution_count": null,
   "metadata": {},
   "outputs": [],
   "source": []
  }
 ],
 "metadata": {
  "kernelspec": {
   "display_name": "Python 3",
   "language": "python",
   "name": "python3"
  },
  "language_info": {
   "codemirror_mode": {
    "name": "ipython",
    "version": 3
   },
   "file_extension": ".py",
   "mimetype": "text/x-python",
   "name": "python",
   "nbconvert_exporter": "python",
   "pygments_lexer": "ipython3",
   "version": "3.7.3"
  }
 },
 "nbformat": 4,
 "nbformat_minor": 4
}
