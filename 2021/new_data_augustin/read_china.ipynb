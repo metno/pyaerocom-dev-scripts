{
 "cells": [
  {
   "cell_type": "code",
   "execution_count": 1,
   "metadata": {},
   "outputs": [],
   "source": [
    "import pyaerocom as pya\n",
    "import os\n",
    "import csv\n",
    "from glob import glob\n",
    "import pandas as pd\n",
    "from tqdm import tqdm\n",
    "from datetime import datetime\n",
    "import numpy as np\n",
    "\n",
    "# variables conversion and units dictionnary\n",
    "pyvars = {\n",
    "    'vmrco': {\n",
    "        'var': 'co',\n",
    "        'unit': 'nmole mole-1'\n",
    "    },\n",
    "    'vmrso2': {\n",
    "        'var': 'so2',\n",
    "        'unit': 'nmole mole-1'\n",
    "    },\n",
    "    'vmrno2': {\n",
    "        'var': 'no2',\n",
    "        'unit': 'nmole mole-1'\n",
    "    },\n",
    "    'vmro3': {\n",
    "        'var': 'o3',\n",
    "        'unit': 'nmole mole-1'\n",
    "    },\n",
    "    'concpm10': {\n",
    "        'var': 'pm10',\n",
    "        'unit': 'ug m-3'\n",
    "    },\n",
    "    'concpm25': {\n",
    "        'var': 'pm2_5',\n",
    "        'unit': 'ug m-3'\n",
    "    }\n",
    "}\n",
    "\n",
    "def read_cams84_china(files, vars_to_retrieve=None):\n",
    "    \n",
    "    # first, read configuration file\n",
    "    print('read configuration file')\n",
    "    path_cfg = '/lustre/storeA/project/aerocom/aerocom1/AEROCOM_OBSDATA/CHINA_SON2020_MP_NRT'\n",
    "    fn = os.path.join(path_cfg,'station_info.xlsx')\n",
    "    cfg = pd.read_excel(fn,engine='openpyxl')\n",
    "    \n",
    "    # read data using pandas read_csv: faster than csv reading routines..?\n",
    "    # csv.DictReader took 271.47131180763245 seconds\n",
    "    # pd.read_csv took 101.79213833808899 seconds\n",
    "    print('read data file(s)')\n",
    "    # initialize empty dataframe\n",
    "    data = pd.DataFrame()\n",
    "    for i in tqdm(range(len(files))):\n",
    "        data = data.append(pd.read_csv(files[i],sep=','))\n",
    "        \n",
    "    # convert dateTime from string to datetime and set as index\n",
    "    data['dateTime'] = pd.to_datetime(data['dateTime'].values)\n",
    "    data.set_index('dateTime', inplace=True)\n",
    "    \n",
    "    \n",
    "    #list of available variables\n",
    "    av_data = ['vmrco', 'vmrso2', 'vmrno2', 'vmro3', 'concpm10', 'concpm25']\n",
    "    if vars_to_retrieve == None:\n",
    "        vars_to_retrieve = av_data\n",
    "\n",
    "    #convert dataframes to dictionnaries\n",
    "    dic_cfg = dict()\n",
    "    for column in cfg.columns:\n",
    "        dic_cfg[column] = np.array(cfg[column].values)\n",
    "    dic_data = dict()\n",
    "    for column in data.columns:\n",
    "        dic_data[column] = np.array(data[column].values    )\n",
    "    \n",
    "    # list of stationData objects\n",
    "    print('create stationData objects')\n",
    "    stationsData = []\n",
    "    for i in tqdm(range(len(dic_cfg['stationId']))):\n",
    "        for var in vars_to_retrieve:\n",
    "            try:\n",
    "                #initialize stationData object\n",
    "                stationData = pya.StationData()\n",
    "\n",
    "                # fill stationData with cfg\n",
    "                stationData['data_id'] = 'CAMS84_CHINA'\n",
    "                stationData['station_name'] = dic_cfg['stationName'][i]\n",
    "                stationData['station_id'] = dic_cfg['stationId'][i]\n",
    "                stationData['latitude'] = dic_cfg['latitude'][i]\n",
    "                stationData['longitude'] = dic_cfg['longitude'][i]\n",
    "                stationData['ts_type'] = 'hourly'\n",
    "\n",
    "                # fill stationData with data\n",
    "                mask = (dic_data['species'] == pyvars[var]['var']) & (dic_data['station_ID'] == stationData['station_id'])\n",
    "                stationData[var] = dic_data['value'][mask].astype('datetime64[s]')\n",
    "\n",
    "                # for each variable, there needs to be an entry in the var_info dict\n",
    "                stationData['var_info'][var] = dict()\n",
    "                stationData['var_info'][var]['units'] = pyvars[var]['unit']\n",
    "\n",
    "                stationsData.append(stationData)\n",
    "            except KeyError:\n",
    "                print(\"Available variables: \",av_data)\n",
    "                raise\n",
    "    return stationsData"
   ]
  },
  {
   "cell_type": "code",
   "execution_count": null,
   "metadata": {
    "scrolled": true
   },
   "outputs": [
    {
     "name": "stdout",
     "output_type": "stream",
     "text": [
      "read configuration file\n"
     ]
    },
    {
     "name": "stderr",
     "output_type": "stream",
     "text": [
      "  0%|          | 0/4 [00:00<?, ?it/s]"
     ]
    },
    {
     "name": "stdout",
     "output_type": "stream",
     "text": [
      "read data file(s)\n"
     ]
    }
   ],
   "source": [
    "path_data = '/lustre/storeA/project/aerocom/aerocom1/AEROCOM_OBSDATA/CHINA_SON2020_MP_NRT'\n",
    "files = glob(os.path.join(path_data, '*.csv'))\n",
    "%time data = read_cams84_china(files, ['concpm10','concpm25'])"
   ]
  },
  {
   "cell_type": "code",
   "execution_count": null,
   "metadata": {},
   "outputs": [],
   "source": []
  }
 ],
 "metadata": {
  "kernelspec": {
   "display_name": "Python 3",
   "language": "python",
   "name": "python3"
  },
  "language_info": {
   "codemirror_mode": {
    "name": "ipython",
    "version": 3
   },
   "file_extension": ".py",
   "mimetype": "text/x-python",
   "name": "python",
   "nbconvert_exporter": "python",
   "pygments_lexer": "ipython3",
   "version": "3.7.3"
  }
 },
 "nbformat": 4,
 "nbformat_minor": 4
}
