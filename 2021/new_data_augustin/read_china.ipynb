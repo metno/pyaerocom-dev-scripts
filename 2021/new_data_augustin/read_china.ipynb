{
 "cells": [
  {
   "cell_type": "code",
   "execution_count": 1,
   "metadata": {},
   "outputs": [],
   "source": [
    "import pyaerocom as pya\n",
    "import os\n",
    "import csv\n",
    "from glob import glob\n",
    "import pandas as pd\n",
    "from tqdm import tqdm\n",
    "from datetime import datetime\n",
    "import numpy as np\n",
    "\n",
    "def read_cams84_china(files, vars_to_retrieve=None):\n",
    "    # variables conversion and units dictionnary\n",
    "    pyvars = {\n",
    "        'vmrco': {\n",
    "            'var': 'co',\n",
    "            'unit': 'nmole mole-1'\n",
    "        },\n",
    "        'vmrso2': {\n",
    "            'var': 'so2',\n",
    "            'unit': 'nmole mole-1'\n",
    "        },\n",
    "        'vmrno2': {\n",
    "            'var': 'no2',\n",
    "            'unit': 'nmole mole-1'\n",
    "        },\n",
    "        'vmro3': {\n",
    "            'var': 'o3',\n",
    "            'unit': 'nmole mole-1'\n",
    "        },\n",
    "        'concpm10': {\n",
    "            'var': 'pm10',\n",
    "            'unit': 'ug m-3'\n",
    "        },\n",
    "        'concpm25': {\n",
    "            'var': 'pm2_5',\n",
    "            'unit': 'ug m-3'\n",
    "        }\n",
    "    }\n",
    "    \n",
    "    # first, read configuration file\n",
    "    print('read configuration file')\n",
    "    path_cfg = '/lustre/storeA/project/aerocom/aerocom1/AEROCOM_OBSDATA/CHINA_SON2020_MP_NRT'\n",
    "    fn = os.path.join(path_cfg,'station_info.xlsx')\n",
    "    cfg = pd.read_excel(fn,engine='openpyxl')\n",
    "    \n",
    "    # read data using pandas read_csv: faster than csv reading routines..?\n",
    "    # csv.DictReader took 271.47131180763245 seconds\n",
    "    # pd.read_csv took 101.79213833808899 seconds\n",
    "    print('read data file(s)')\n",
    "    # initialize empty dataframe\n",
    "    data = pd.DataFrame()\n",
    "    for i in tqdm(range(len(files))):\n",
    "        data = data.append(pd.read_csv(files[i],sep=','))\n",
    "        \n",
    "    # convert dateTime from string to datetime and set as index\n",
    "    data['dateTime'] = pd.to_datetime(data['dateTime'].values)\n",
    "    data.set_index('dateTime', inplace=True)\n",
    "    \n",
    "    \n",
    "    #list of available variables\n",
    "    av_data = ['vmrco', 'vmrso2', 'vmrno2', 'vmro3', 'concpm10', 'concpm25']\n",
    "    if vars_to_retrieve == None:\n",
    "        vars_to_retrieve = av_data\n",
    "    \n",
    "    \n",
    "    # list of stationData objects\n",
    "    print('create stationData objects')\n",
    "    stationsData = []\n",
    "    for i in tqdm(range(len(cfg))):\n",
    "        row = cfg.iloc[i]\n",
    "\n",
    "        for var in vars_to_retrieve:\n",
    "            try:\n",
    "                #initialize stationData object\n",
    "                stationData = pya.StationData()\n",
    "\n",
    "                # fill stationData with cfg\n",
    "                stationData['data_id'] = 'CAMS84_CHINA'\n",
    "                stationData['station_name'] = row['stationName']\n",
    "                stationData['station_id'] = row['stationId']\n",
    "                stationData['latitude'] = row['latitude']\n",
    "                stationData['longitude'] = row['longitude']\n",
    "                stationData['ts_type'] = 'hourly'\n",
    "\n",
    "                # fill stationData with data\n",
    "                stationData[var] = data.loc[(data['station_ID']==row['stationId']) & (data['species']==pyvars[var]['var'])].value.astype('datetime64[s]')\n",
    "\n",
    "                # for each variable, there needs to be an entry in the var_info dict\n",
    "                stationData['var_info'][var] = dict()\n",
    "                stationData['var_info'][var]['units'] = pyvars[var]['unit']\n",
    "\n",
    "                stationsData.append(stationData)\n",
    "            except KeyError:\n",
    "                print(\"Available variables: \",av_data)\n",
    "                raise\n",
    "    return stationsData"
   ]
  },
  {
   "cell_type": "code",
   "execution_count": null,
   "metadata": {
    "scrolled": true
   },
   "outputs": [
    {
     "name": "stdout",
     "output_type": "stream",
     "text": [
      "read configuration file\n"
     ]
    },
    {
     "name": "stderr",
     "output_type": "stream",
     "text": [
      "  0%|          | 0/4 [00:00<?, ?it/s]"
     ]
    },
    {
     "name": "stdout",
     "output_type": "stream",
     "text": [
      "read data file(s)\n"
     ]
    }
   ],
   "source": [
    "path_data = '/lustre/storeA/project/aerocom/aerocom1/AEROCOM_OBSDATA/CHINA_SON2020_MP_NRT'\n",
    "files = glob(os.path.join(path_data, '*.csv'))\n",
    "\n",
    "%time data = read_cams84_china(files, ['concpm10','concpm25'])"
   ]
  },
  {
   "cell_type": "code",
   "execution_count": 40,
   "metadata": {},
   "outputs": [],
   "source": [
    "import pyaerocom as pya\n",
    "import os\n",
    "import csv\n",
    "from glob import glob\n",
    "import pandas as pd\n",
    "from tqdm import tqdm\n",
    "from datetime import datetime\n",
    "import numpy as np\n",
    "\n",
    "# variables conversion and units dictionnary\n",
    "pyvars = {\n",
    "    'vmrco': {\n",
    "        'var': 'co',\n",
    "        'unit': 'nmole mole-1'\n",
    "    },\n",
    "    'vmrso2': {\n",
    "        'var': 'so2',\n",
    "        'unit': 'nmole mole-1'\n",
    "    },\n",
    "    'vmrno2': {\n",
    "        'var': 'no2',\n",
    "        'unit': 'nmole mole-1'\n",
    "    },\n",
    "    'vmro3': {\n",
    "        'var': 'o3',\n",
    "        'unit': 'nmole mole-1'\n",
    "    },\n",
    "    'concpm10': {\n",
    "        'var': 'pm10',\n",
    "        'unit': 'ug m-3'\n",
    "    },\n",
    "    'concpm25': {\n",
    "        'var': 'pm2_5',\n",
    "        'unit': 'ug m-3'\n",
    "    }\n",
    "}\n",
    "    \n",
    "def get_china_data_cfg(files, vars_to_retrieve=None):\n",
    "    # first, read configuration file\n",
    "    print('read configuration file')\n",
    "    path_cfg = '/lustre/storeA/project/aerocom/aerocom1/AEROCOM_OBSDATA/CHINA_SON2020_MP_NRT'\n",
    "    fn = os.path.join(path_cfg,'station_info.xlsx')\n",
    "    cfg = pd.read_excel(fn,engine='openpyxl')\n",
    "    \n",
    "    # read data using pandas read_csv: faster than csv reading routines..?\n",
    "    # csv.DictReader took 271.47131180763245 seconds\n",
    "    # pd.read_csv took 101.79213833808899 seconds\n",
    "    print('read data file(s)')\n",
    "    # initialize empty dataframe\n",
    "    data = pd.DataFrame()\n",
    "    for i in tqdm(range(len(files))):\n",
    "        data = data.append(pd.read_csv(files[i],sep=','))\n",
    "        \n",
    "    # convert dateTime from string to datetime and set as index\n",
    "    data['dateTime'] = pd.to_datetime(data['dateTime'].values)\n",
    "    data.set_index('dateTime', inplace=True)\n",
    "    \n",
    "    \n",
    "    #list of available variables\n",
    "    av_data = ['vmrco', 'vmrso2', 'vmrno2', 'vmro3', 'concpm10', 'concpm25']\n",
    "    if vars_to_retrieve == None:\n",
    "        vars_to_retrieve = av_data\n",
    "    \n",
    "    return data, cfg"
   ]
  },
  {
   "cell_type": "code",
   "execution_count": 41,
   "metadata": {},
   "outputs": [
    {
     "name": "stdout",
     "output_type": "stream",
     "text": [
      "read configuration file\n"
     ]
    },
    {
     "name": "stderr",
     "output_type": "stream",
     "text": [
      "  0%|          | 0/1 [00:00<?, ?it/s]"
     ]
    },
    {
     "name": "stdout",
     "output_type": "stream",
     "text": [
      "read data file(s)\n"
     ]
    },
    {
     "name": "stderr",
     "output_type": "stream",
     "text": [
      "100%|██████████| 1/1 [01:38<00:00, 98.87s/it]\n"
     ]
    }
   ],
   "source": [
    "path_data = '/lustre/storeA/project/aerocom/aerocom1/AEROCOM_OBSDATA/CHINA_SON2020_MP_NRT'\n",
    "files = glob(os.path.join(path_data, '*.csv'))\n",
    "\n",
    "data, cfg = get_china_data_cfg([files[0]], ['concpm10','concpm25'])"
   ]
  },
  {
   "cell_type": "code",
   "execution_count": 42,
   "metadata": {},
   "outputs": [],
   "source": [
    "#list of available variables\n",
    "vars_to_retrieve = ['concpm10','concpm25']\n",
    "av_data = ['vmrco', 'vmrso2', 'vmrno2', 'vmro3', 'concpm10', 'concpm25']\n",
    "if vars_to_retrieve == None:\n",
    "    vars_to_retrieve = av_data"
   ]
  },
  {
   "cell_type": "code",
   "execution_count": 43,
   "metadata": {},
   "outputs": [],
   "source": [
    "#translate datafraes to dictionaries\n",
    "dic_cfg = dict()\n",
    "for column in cfg.columns:\n",
    "    dic_cfg[column] = cfg[column].values\n",
    "\n",
    "dic_data = dict()\n",
    "for column in data.columns:\n",
    "    dic_data[column] = data[column].values"
   ]
  },
  {
   "cell_type": "code",
   "execution_count": 47,
   "metadata": {},
   "outputs": [
    {
     "ename": "KeyboardInterrupt",
     "evalue": "",
     "output_type": "error",
     "traceback": [
      "\u001b[0;31m---------------------------------------------------------------------------\u001b[0m",
      "\u001b[0;31mKeyboardInterrupt\u001b[0m                         Traceback (most recent call last)",
      "\u001b[0;32m<ipython-input-47-68cf0b8f0af0>\u001b[0m in \u001b[0;36m<module>\u001b[0;34m\u001b[0m\n\u001b[1;32m     15\u001b[0m \u001b[0;34m\u001b[0m\u001b[0m\n\u001b[1;32m     16\u001b[0m             \u001b[0;31m## fill stationData with data\u001b[0m\u001b[0;34m\u001b[0m\u001b[0;34m\u001b[0m\u001b[0;34m\u001b[0m\u001b[0m\n\u001b[0;32m---> 17\u001b[0;31m             \u001b[0mmask\u001b[0m \u001b[0;34m=\u001b[0m \u001b[0;34m(\u001b[0m\u001b[0mdata\u001b[0m\u001b[0;34m[\u001b[0m\u001b[0;34m'species'\u001b[0m\u001b[0;34m]\u001b[0m \u001b[0;34m==\u001b[0m \u001b[0mpyvars\u001b[0m\u001b[0;34m[\u001b[0m\u001b[0mvar\u001b[0m\u001b[0;34m]\u001b[0m\u001b[0;34m[\u001b[0m\u001b[0;34m'var'\u001b[0m\u001b[0;34m]\u001b[0m\u001b[0;34m)\u001b[0m \u001b[0;34m&\u001b[0m \u001b[0;34m(\u001b[0m\u001b[0mdata\u001b[0m\u001b[0;34m[\u001b[0m\u001b[0;34m'station_ID'\u001b[0m\u001b[0;34m]\u001b[0m \u001b[0;34m==\u001b[0m \u001b[0mstationData\u001b[0m\u001b[0;34m[\u001b[0m\u001b[0;34m'station_id'\u001b[0m\u001b[0;34m]\u001b[0m\u001b[0;34m)\u001b[0m\u001b[0;34m\u001b[0m\u001b[0;34m\u001b[0m\u001b[0m\n\u001b[0m\u001b[1;32m     18\u001b[0m             \u001b[0mstationData\u001b[0m\u001b[0;34m[\u001b[0m\u001b[0mvar\u001b[0m\u001b[0;34m]\u001b[0m \u001b[0;34m=\u001b[0m \u001b[0mdata\u001b[0m\u001b[0;34m[\u001b[0m\u001b[0mmask\u001b[0m\u001b[0;34m]\u001b[0m\u001b[0;34m[\u001b[0m\u001b[0;34m'value'\u001b[0m\u001b[0;34m]\u001b[0m\u001b[0;34m.\u001b[0m\u001b[0mastype\u001b[0m\u001b[0;34m(\u001b[0m\u001b[0;34m'datetime64[s]'\u001b[0m\u001b[0;34m)\u001b[0m\u001b[0;34m\u001b[0m\u001b[0;34m\u001b[0m\u001b[0m\n\u001b[1;32m     19\u001b[0m \u001b[0;34m\u001b[0m\u001b[0m\n",
      "\u001b[0;32m~/anaconda3/envs/pya/lib/python3.7/site-packages/pandas/core/ops/__init__.py\u001b[0m in \u001b[0;36mwrapper\u001b[0;34m(self, other, axis)\u001b[0m\n\u001b[1;32m   1227\u001b[0m \u001b[0;34m\u001b[0m\u001b[0m\n\u001b[1;32m   1228\u001b[0m             \u001b[0;32mwith\u001b[0m \u001b[0mnp\u001b[0m\u001b[0;34m.\u001b[0m\u001b[0merrstate\u001b[0m\u001b[0;34m(\u001b[0m\u001b[0mall\u001b[0m\u001b[0;34m=\u001b[0m\u001b[0;34m\"ignore\"\u001b[0m\u001b[0;34m)\u001b[0m\u001b[0;34m:\u001b[0m\u001b[0;34m\u001b[0m\u001b[0;34m\u001b[0m\u001b[0m\n\u001b[0;32m-> 1229\u001b[0;31m                 \u001b[0mres\u001b[0m \u001b[0;34m=\u001b[0m \u001b[0mna_op\u001b[0m\u001b[0;34m(\u001b[0m\u001b[0mvalues\u001b[0m\u001b[0;34m,\u001b[0m \u001b[0mother\u001b[0m\u001b[0;34m)\u001b[0m\u001b[0;34m\u001b[0m\u001b[0;34m\u001b[0m\u001b[0m\n\u001b[0m\u001b[1;32m   1230\u001b[0m             \u001b[0;32mif\u001b[0m \u001b[0mis_scalar\u001b[0m\u001b[0;34m(\u001b[0m\u001b[0mres\u001b[0m\u001b[0;34m)\u001b[0m\u001b[0;34m:\u001b[0m\u001b[0;34m\u001b[0m\u001b[0;34m\u001b[0m\u001b[0m\n\u001b[1;32m   1231\u001b[0m                 raise TypeError(\n",
      "\u001b[0;32m~/anaconda3/envs/pya/lib/python3.7/site-packages/pandas/core/ops/__init__.py\u001b[0m in \u001b[0;36mna_op\u001b[0;34m(x, y)\u001b[0m\n\u001b[1;32m   1089\u001b[0m \u001b[0;34m\u001b[0m\u001b[0m\n\u001b[1;32m   1090\u001b[0m         \u001b[0;32mif\u001b[0m \u001b[0mis_object_dtype\u001b[0m\u001b[0;34m(\u001b[0m\u001b[0mx\u001b[0m\u001b[0;34m.\u001b[0m\u001b[0mdtype\u001b[0m\u001b[0;34m)\u001b[0m\u001b[0;34m:\u001b[0m\u001b[0;34m\u001b[0m\u001b[0;34m\u001b[0m\u001b[0m\n\u001b[0;32m-> 1091\u001b[0;31m             \u001b[0mresult\u001b[0m \u001b[0;34m=\u001b[0m \u001b[0m_comp_method_OBJECT_ARRAY\u001b[0m\u001b[0;34m(\u001b[0m\u001b[0mop\u001b[0m\u001b[0;34m,\u001b[0m \u001b[0mx\u001b[0m\u001b[0;34m,\u001b[0m \u001b[0my\u001b[0m\u001b[0;34m)\u001b[0m\u001b[0;34m\u001b[0m\u001b[0;34m\u001b[0m\u001b[0m\n\u001b[0m\u001b[1;32m   1092\u001b[0m \u001b[0;34m\u001b[0m\u001b[0m\n\u001b[1;32m   1093\u001b[0m         \u001b[0;32melif\u001b[0m \u001b[0mis_datetimelike_v_numeric\u001b[0m\u001b[0;34m(\u001b[0m\u001b[0mx\u001b[0m\u001b[0;34m,\u001b[0m \u001b[0my\u001b[0m\u001b[0;34m)\u001b[0m\u001b[0;34m:\u001b[0m\u001b[0;34m\u001b[0m\u001b[0;34m\u001b[0m\u001b[0m\n",
      "\u001b[0;32m~/anaconda3/envs/pya/lib/python3.7/site-packages/pandas/core/ops/__init__.py\u001b[0m in \u001b[0;36m_comp_method_OBJECT_ARRAY\u001b[0;34m(op, x, y)\u001b[0m\n\u001b[1;32m   1067\u001b[0m         \u001b[0mresult\u001b[0m \u001b[0;34m=\u001b[0m \u001b[0mlibops\u001b[0m\u001b[0;34m.\u001b[0m\u001b[0mvec_compare\u001b[0m\u001b[0;34m(\u001b[0m\u001b[0mx\u001b[0m\u001b[0;34m,\u001b[0m \u001b[0my\u001b[0m\u001b[0;34m,\u001b[0m \u001b[0mop\u001b[0m\u001b[0;34m)\u001b[0m\u001b[0;34m\u001b[0m\u001b[0;34m\u001b[0m\u001b[0m\n\u001b[1;32m   1068\u001b[0m     \u001b[0;32melse\u001b[0m\u001b[0;34m:\u001b[0m\u001b[0;34m\u001b[0m\u001b[0;34m\u001b[0m\u001b[0m\n\u001b[0;32m-> 1069\u001b[0;31m         \u001b[0mresult\u001b[0m \u001b[0;34m=\u001b[0m \u001b[0mlibops\u001b[0m\u001b[0;34m.\u001b[0m\u001b[0mscalar_compare\u001b[0m\u001b[0;34m(\u001b[0m\u001b[0mx\u001b[0m\u001b[0;34m,\u001b[0m \u001b[0my\u001b[0m\u001b[0;34m,\u001b[0m \u001b[0mop\u001b[0m\u001b[0;34m)\u001b[0m\u001b[0;34m\u001b[0m\u001b[0;34m\u001b[0m\u001b[0m\n\u001b[0m\u001b[1;32m   1070\u001b[0m     \u001b[0;32mreturn\u001b[0m \u001b[0mresult\u001b[0m\u001b[0;34m\u001b[0m\u001b[0;34m\u001b[0m\u001b[0m\n\u001b[1;32m   1071\u001b[0m \u001b[0;34m\u001b[0m\u001b[0m\n",
      "\u001b[0;31mKeyboardInterrupt\u001b[0m: "
     ]
    }
   ],
   "source": [
    "stationsData = []\n",
    "for i,_ in enumerate(dic_cfg['stationId']):\n",
    "    for var in vars_to_retrieve:\n",
    "        try:\n",
    "            #initialize stationData object\n",
    "            stationData = pya.StationData()\n",
    "\n",
    "            # fill stationData with cfg\n",
    "            stationData['data_id'] = 'CAMS84_CHINA'\n",
    "            stationData['station_name'] = dic_cfg['stationName'][i]\n",
    "            stationData['station_id'] = dic_cfg['stationId'][i]\n",
    "            stationData['latitude'] = dic_cfg['latitude'][i]\n",
    "            stationData['longitude'] = dic_cfg['longitude'][i]\n",
    "            stationData['ts_type'] = 'hourly'\n",
    "\n",
    "            # fill stationData with data\n",
    "            mask = (data['species'] == pyvars[var]['var']) & (data['station_ID'] == stationData['station_id'])\n",
    "            stationData[var] = data[mask]['value'].astype('datetime64[s]')\n",
    "\n",
    "            # for each variable, there needs to be an entry in the var_info dict\n",
    "            stationData['var_info'][var] = dict()\n",
    "            stationData['var_info'][var]['units'] = pyvars[var]['unit']\n",
    "\n",
    "            stationsData.append(stationData)\n",
    "        except KeyError:\n",
    "            print(\"Available variables: \",av_data)\n",
    "            raise"
   ]
  },
  {
   "cell_type": "code",
   "execution_count": 35,
   "metadata": {},
   "outputs": [
    {
     "data": {
      "text/plain": [
       "'1000A'"
      ]
     },
     "execution_count": 35,
     "metadata": {},
     "output_type": "execute_result"
    }
   ],
   "source": [
    "dic_cfg['stationId'][i]"
   ]
  },
  {
   "cell_type": "code",
   "execution_count": 36,
   "metadata": {},
   "outputs": [
    {
     "data": {
      "text/plain": [
       "Index(['station_ID', 'species', 'value'], dtype='object')"
      ]
     },
     "execution_count": 36,
     "metadata": {},
     "output_type": "execute_result"
    }
   ],
   "source": [
    "data.keys()"
   ]
  },
  {
   "cell_type": "code",
   "execution_count": 46,
   "metadata": {},
   "outputs": [
    {
     "data": {
      "text/plain": [
       "Series([], Name: value, dtype: float64)"
      ]
     },
     "execution_count": 46,
     "metadata": {},
     "output_type": "execute_result"
    }
   ],
   "source": []
  },
  {
   "cell_type": "code",
   "execution_count": null,
   "metadata": {},
   "outputs": [],
   "source": [
    "'''# list of stationData objects\n",
    "    print('create stationData objects')\n",
    "    stationsData = []\n",
    "    for i in tqdm(range(len(cfg))):\n",
    "        row = cfg.iloc[i]\n",
    "\n",
    "        for var in vars_to_retrieve:\n",
    "            try:\n",
    "                #initialize stationData object\n",
    "                stationData = pya.StationData()\n",
    "\n",
    "                # fill stationData with cfg\n",
    "                stationData['data_id'] = 'CAMS84_CHINA'\n",
    "                stationData['station_name'] = row['stationName']\n",
    "                stationData['station_id'] = row['stationId']\n",
    "                stationData['latitude'] = row['latitude']\n",
    "                stationData['longitude'] = row['longitude']\n",
    "                stationData['ts_type'] = 'hourly'\n",
    "\n",
    "                # fill stationData with data\n",
    "                stationData[var] = data.loc[(data['station_ID']==row['stationId']) & (data['species']==pyvars[var]['var'])].value.astype('datetime64[s]')\n",
    "\n",
    "                # for each variable, there needs to be an entry in the var_info dict\n",
    "                stationData['var_info'][var] = dict()\n",
    "                stationData['var_info'][var]['units'] = pyvars[var]['unit']\n",
    "\n",
    "                stationsData.append(stationData)\n",
    "            except KeyError:\n",
    "                print(\"Available variables: \",av_data)\n",
    "                raise'''"
   ]
  }
 ],
 "metadata": {
  "kernelspec": {
   "display_name": "Python 3",
   "language": "python",
   "name": "python3"
  },
  "language_info": {
   "codemirror_mode": {
    "name": "ipython",
    "version": 3
   },
   "file_extension": ".py",
   "mimetype": "text/x-python",
   "name": "python",
   "nbconvert_exporter": "python",
   "pygments_lexer": "ipython3",
   "version": "3.7.3"
  }
 },
 "nbformat": 4,
 "nbformat_minor": 4
}
